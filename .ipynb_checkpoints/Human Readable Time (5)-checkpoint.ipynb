{
 "cells": [
  {
   "cell_type": "code",
   "execution_count": 67,
   "metadata": {},
   "outputs": [
    {
     "data": {
      "text/plain": [
       "[0, 2.0, 0]"
      ]
     },
     "execution_count": 67,
     "metadata": {},
     "output_type": "execute_result"
    }
   ],
   "source": [
    "num = 120\n",
    "\n",
    "hour = []\n",
    "minute = []\n",
    "second = []\n",
    "\n",
    "\n",
    "hr = num/60/60\n",
    "if hr < 1:\n",
    "    hour.append(0)\n",
    "    minute.append(num/60)\n",
    "    if minute[0] % 1 == 0:\n",
    "        second.append(0)\n",
    "    elif minute[0] % 1 != 0:\n",
    "        remainder_min = minute[0] % 1\n",
    "        second.append(remainder_min * 60)\n",
    "    \n",
    "else:    \n",
    "    hour.append(num/60/60)\n",
    "    if hr % 1 == 0:\n",
    "        minute.append(0)\n",
    "        second.append(0)\n",
    "    elif hr % 1 != 0:\n",
    "        remainder_hr = hr % 1\n",
    "        minute.append(remainder_hr * 60)\n",
    "        if minute[0] % 1 == 0:\n",
    "            second.append(0)\n",
    "        elif minute[0] % 1 != 0:\n",
    "            remainder_min = minute[0] % 1\n",
    "            second.append(remainder_min * 60)\n",
    "    \n",
    "\n",
    "time = hour + minute + second\n",
    "time"
   ]
  },
  {
   "cell_type": "code",
   "execution_count": null,
   "metadata": {},
   "outputs": [],
   "source": []
  }
 ],
 "metadata": {
  "kernelspec": {
   "display_name": "Python 3",
   "language": "python",
   "name": "python3"
  },
  "language_info": {
   "codemirror_mode": {
    "name": "ipython",
    "version": 3
   },
   "file_extension": ".py",
   "mimetype": "text/x-python",
   "name": "python",
   "nbconvert_exporter": "python",
   "pygments_lexer": "ipython3",
   "version": "3.7.4"
  }
 },
 "nbformat": 4,
 "nbformat_minor": 2
}
