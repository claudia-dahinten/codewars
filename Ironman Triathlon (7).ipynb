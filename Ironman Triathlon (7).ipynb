{
 "cells": [
  {
   "cell_type": "code",
   "execution_count": 1,
   "metadata": {},
   "outputs": [],
   "source": [
    "def  i_tri(s):\n",
    "    tri_dic = {}\n",
    "    swim = 2.4\n",
    "    bike = 112\n",
    "    run = 26.2\n",
    "    if s == 0:\n",
    "        return 'Starting Line... Good Luck!'\n",
    "    elif s >0 and s <= swim:\n",
    "        swim_1 = format((swim + bike + run) - s, '.2f')\n",
    "        tri_dic['Swim'] = '{} to go!'.format(swim_1)\n",
    "    elif s > swim and s <= (swim + bike):\n",
    "        bike_1 = format((swim + bike + run) - s, '.2f')\n",
    "        tri_dic['Bike'] = '{} to go!'.format(bike_1)\n",
    "    elif s > (swim + bike) and s <= (swim + bike + run - 10):\n",
    "        run_1 = format((swim + bike + run) - s, '.2f')\n",
    "        tri_dic['Run'] = '{} to go!'.format(run_1)\n",
    "    elif s > (swim + bike + run - 10) and s < (swim + bike + run):\n",
    "        tri_dic['Run'] = 'Nearly there!'\n",
    "    else:\n",
    "        return \"You're done! Stop running!\"\n",
    "    return tri_dic"
   ]
  },
  {
   "cell_type": "code",
   "execution_count": 2,
   "metadata": {},
   "outputs": [
    {
     "data": {
      "text/plain": [
       "{'Bike': '130.60 to go!'}"
      ]
     },
     "execution_count": 2,
     "metadata": {},
     "output_type": "execute_result"
    }
   ],
   "source": [
    "i_tri(10)"
   ]
  }
 ],
 "metadata": {
  "kernelspec": {
   "display_name": "Python 3",
   "language": "python",
   "name": "python3"
  },
  "language_info": {
   "codemirror_mode": {
    "name": "ipython",
    "version": 3
   },
   "file_extension": ".py",
   "mimetype": "text/x-python",
   "name": "python",
   "nbconvert_exporter": "python",
   "pygments_lexer": "ipython3",
   "version": "3.7.4"
  }
 },
 "nbformat": 4,
 "nbformat_minor": 2
}
