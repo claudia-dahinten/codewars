{
 "cells": [
  {
   "cell_type": "code",
   "execution_count": 88,
   "metadata": {},
   "outputs": [],
   "source": [
    "array = ['c', -2, False, False, -1, -10, 'string', 7, 6, '0', 2, 7, 0, 0, -3, 0, 'c']"
   ]
  },
  {
   "cell_type": "code",
   "execution_count": 89,
   "metadata": {},
   "outputs": [],
   "source": [
    "def move_zeros (array):\n",
    "    new = []\n",
    "    new_2 = []\n",
    "    for i in array:\n",
    "        if str(i) == 'False':\n",
    "            new.append(i)\n",
    "        elif i not in [0, 0.0]:\n",
    "            new.append(i)\n",
    "        elif i in [0, 0.0]:\n",
    "            new_2.append(i)\n",
    "    final = new+new_2\n",
    "    return final\n"
   ]
  },
  {
   "cell_type": "code",
   "execution_count": 90,
   "metadata": {},
   "outputs": [
    {
     "data": {
      "text/plain": [
       "['c', -2, False, False, -1, -10, 'string', 7, 6, '0', 2, 7, -3, 'c', 0, 0, 0]"
      ]
     },
     "execution_count": 90,
     "metadata": {},
     "output_type": "execute_result"
    }
   ],
   "source": [
    "move_zeros(array)"
   ]
  }
 ],
 "metadata": {
  "kernelspec": {
   "display_name": "Python 3",
   "language": "python",
   "name": "python3"
  },
  "language_info": {
   "codemirror_mode": {
    "name": "ipython",
    "version": 3
   },
   "file_extension": ".py",
   "mimetype": "text/x-python",
   "name": "python",
   "nbconvert_exporter": "python",
   "pygments_lexer": "ipython3",
   "version": "3.7.4"
  }
 },
 "nbformat": 4,
 "nbformat_minor": 2
}
