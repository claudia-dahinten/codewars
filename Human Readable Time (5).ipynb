{
 "cells": [
  {
   "cell_type": "code",
   "execution_count": 126,
   "metadata": {},
   "outputs": [],
   "source": [
    "import math\n",
    "\n",
    "\n",
    "def make_readable(seconds):\n",
    "    hour = []\n",
    "    minute = []\n",
    "    second = []\n",
    "\n",
    "\n",
    "    hr = seconds/60/60\n",
    "    if hr < 1:\n",
    "        hour.append(int('0'))\n",
    "        minute.append(seconds/60)\n",
    "        if minute[0] % 1 == 0:\n",
    "            second.append(0)\n",
    "        elif minute[0] % 1 != 0:\n",
    "            remainder_min = minute[0] % 1\n",
    "            second.append(remainder_min * 60)\n",
    "\n",
    "    else:    \n",
    "        hour.append(seconds/60/60)\n",
    "        if hr % 1 == 0:\n",
    "            minute.append(0)\n",
    "            second.append(0)\n",
    "        elif hr % 1 != 0:\n",
    "            remainder_hr = hr % 1\n",
    "            minute.append(remainder_hr * 60)\n",
    "            if minute[0] % 1 == 0:\n",
    "                second.append(0)\n",
    "            elif minute[0] % 1 != 0:\n",
    "                remainder_min = minute[0] % 1\n",
    "                second.append(remainder_min * 60)\n",
    "\n",
    "\n",
    "    time = str('%02d'%(math.floor(hour[0]))) + ':' + str('%02d'% (math.floor(minute[0]))) + ':' +  str('%02d'%(math.floor(second[0])))\n",
    "    return time"
   ]
  },
  {
   "cell_type": "code",
   "execution_count": 127,
   "metadata": {},
   "outputs": [
    {
     "data": {
      "text/plain": [
       "'00:02:00'"
      ]
     },
     "execution_count": 127,
     "metadata": {},
     "output_type": "execute_result"
    }
   ],
   "source": [
    "make_readable(120)"
   ]
  },
  {
   "cell_type": "code",
   "execution_count": 123,
   "metadata": {},
   "outputs": [],
   "source": [
    "num = [1]"
   ]
  },
  {
   "cell_type": "code",
   "execution_count": 111,
   "metadata": {},
   "outputs": [
    {
     "name": "stdout",
     "output_type": "stream",
     "text": [
      "0\n"
     ]
    }
   ],
   "source": [
    "print(00)"
   ]
  },
  {
   "cell_type": "code",
   "execution_count": 116,
   "metadata": {},
   "outputs": [
    {
     "name": "stdout",
     "output_type": "stream",
     "text": [
      "23\n"
     ]
    }
   ],
   "source": [
    "print(\"%02d\" % (23))"
   ]
  },
  {
   "cell_type": "code",
   "execution_count": null,
   "metadata": {},
   "outputs": [],
   "source": []
  }
 ],
 "metadata": {
  "kernelspec": {
   "display_name": "Python 3",
   "language": "python",
   "name": "python3"
  },
  "language_info": {
   "codemirror_mode": {
    "name": "ipython",
    "version": 3
   },
   "file_extension": ".py",
   "mimetype": "text/x-python",
   "name": "python",
   "nbconvert_exporter": "python",
   "pygments_lexer": "ipython3",
   "version": "3.7.4"
  }
 },
 "nbformat": 4,
 "nbformat_minor": 2
}
