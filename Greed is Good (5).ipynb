{
 "cells": [
  {
   "cell_type": "code",
   "execution_count": 170,
   "metadata": {},
   "outputs": [],
   "source": [
    "dice = [1,1,1,3,1]"
   ]
  },
  {
   "cell_type": "code",
   "execution_count": 173,
   "metadata": {
    "code_folding": []
   },
   "outputs": [],
   "source": [
    "#Submitted 1st attempt (I know this isn't the optimal code, but it works)\n",
    "import numpy as np\n",
    "\n",
    "def score(dice):\n",
    "    counter = {}\n",
    "    for i in range(0,len(np.unique(dice))):\n",
    "        counter[np.unique(dice, return_counts=True)[0][i]] = np.unique(dice, return_counts=True)[1][i]\n",
    "\n",
    "    total = 0\n",
    "    for i in counter.keys():\n",
    "        if counter[i]  == 1:\n",
    "            if i == 5:\n",
    "                total += 50\n",
    "            elif i == 1:\n",
    "                total += 100\n",
    "        \n",
    "        elif counter[i] == 2:\n",
    "            if i == 5:\n",
    "                total += 100\n",
    "            elif i == 1:\n",
    "                total += 200\n",
    "    \n",
    "        elif counter[i] == 3:\n",
    "            if i == 1:\n",
    "                total += 1000\n",
    "            elif i == 6:\n",
    "                total += 600\n",
    "            elif i == 5:\n",
    "                total += 500\n",
    "            elif i == 4:\n",
    "                total += 400\n",
    "            elif i == 3:\n",
    "                total += 300\n",
    "            elif i == 2:\n",
    "                total += 200\n",
    "                \n",
    "        elif counter[i] == 4:\n",
    "            if i == 1:\n",
    "                total += 1100\n",
    "            elif i == 6:\n",
    "                total += 600\n",
    "            elif i == 5:\n",
    "                total += 550\n",
    "            elif i == 4:\n",
    "                total += 400\n",
    "            elif i == 3:\n",
    "                total += 300\n",
    "            elif i == 2:\n",
    "                total += 200\n",
    "    \n",
    "        elif counter[i] == 5:\n",
    "            if i == 1:\n",
    "                total += 1200\n",
    "            elif i == 6:\n",
    "                total += 600\n",
    "            elif i == 5:\n",
    "                total += 600\n",
    "            elif i == 4:\n",
    "                total += 400\n",
    "            elif i == 3:\n",
    "                total += 300\n",
    "            elif i == 2:\n",
    "                total += 200\n",
    "    \n",
    "        elif counter[i] == 5:\n",
    "            if i == 1:\n",
    "                total += 1300\n",
    "            elif i == 6:\n",
    "                total += 600\n",
    "            elif i == 5:\n",
    "                total += 650\n",
    "            elif i == 4:\n",
    "                total += 400\n",
    "            elif i == 3:\n",
    "                total += 300\n",
    "            elif i == 2:\n",
    "                total += 200\n",
    "                \n",
    "    return total"
   ]
  },
  {
   "cell_type": "code",
   "execution_count": 174,
   "metadata": {},
   "outputs": [
    {
     "data": {
      "text/plain": [
       "1100"
      ]
     },
     "execution_count": 174,
     "metadata": {},
     "output_type": "execute_result"
    }
   ],
   "source": [
    "score(dice)"
   ]
  }
 ],
 "metadata": {
  "kernelspec": {
   "display_name": "Python 3",
   "language": "python",
   "name": "python3"
  },
  "language_info": {
   "codemirror_mode": {
    "name": "ipython",
    "version": 3
   },
   "file_extension": ".py",
   "mimetype": "text/x-python",
   "name": "python",
   "nbconvert_exporter": "python",
   "pygments_lexer": "ipython3",
   "version": "3.7.4"
  },
  "toc": {
   "base_numbering": 1,
   "nav_menu": {},
   "number_sections": true,
   "sideBar": true,
   "skip_h1_title": false,
   "title_cell": "Table of Contents",
   "title_sidebar": "Contents",
   "toc_cell": false,
   "toc_position": {},
   "toc_section_display": true,
   "toc_window_display": false
  },
  "varInspector": {
   "cols": {
    "lenName": 16,
    "lenType": 16,
    "lenVar": 40
   },
   "kernels_config": {
    "python": {
     "delete_cmd_postfix": "",
     "delete_cmd_prefix": "del ",
     "library": "var_list.py",
     "varRefreshCmd": "print(var_dic_list())"
    },
    "r": {
     "delete_cmd_postfix": ") ",
     "delete_cmd_prefix": "rm(",
     "library": "var_list.r",
     "varRefreshCmd": "cat(var_dic_list()) "
    }
   },
   "types_to_exclude": [
    "module",
    "function",
    "builtin_function_or_method",
    "instance",
    "_Feature"
   ],
   "window_display": false
  }
 },
 "nbformat": 4,
 "nbformat_minor": 2
}
